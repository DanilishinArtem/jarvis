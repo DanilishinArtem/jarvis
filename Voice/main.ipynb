{
 "cells": [
  {
   "cell_type": "code",
   "execution_count": 1,
   "metadata": {},
   "outputs": [
    {
     "name": "stderr",
     "output_type": "stream",
     "text": [
      "/Users/artemdanilisin/opt/anaconda3/envs/py311/lib/python3.11/site-packages/tqdm/auto.py:21: TqdmWarning: IProgress not found. Please update jupyter and ipywidgets. See https://ipywidgets.readthedocs.io/en/stable/user_install.html\n",
      "  from .autonotebook import tqdm as notebook_tqdm\n"
     ]
    }
   ],
   "source": [
    "from Modules.pipeline_synthesize import Pipeline"
   ]
  },
  {
   "cell_type": "code",
   "execution_count": 3,
   "metadata": {},
   "outputs": [
    {
     "name": "stdout",
     "output_type": "stream",
     "text": [
      "Tokenizer loaded.\n",
      "Hifigan_decoder loaded.\n"
     ]
    },
    {
     "name": "stderr",
     "output_type": "stream",
     "text": [
      "GPT2InferenceModel has generative capabilities, as `prepare_inputs_for_generation` is explicitly overwritten. However, it doesn't directly inherit from `GenerationMixin`. From 👉v4.50👈 onwards, `PreTrainedModel` will NOT inherit from `GenerationMixin`, and this model will lose the ability to call `generate` and other related functions.\n",
      "  - If you're using `trust_remote_code=True`, you can get rid of this warning by loading the model with an auto class. See https://huggingface.co/docs/transformers/en/model_doc/auto#auto-classes\n",
      "  - If you are the owner of the model architecture code, please modify your model class such that it inherits from `GenerationMixin` (after `PreTrainedModel`, otherwise you'll get an exception).\n",
      "  - If you are not the owner of the model architecture class, please contact the model code owner to update it.\n"
     ]
    },
    {
     "name": "stdout",
     "output_type": "stream",
     "text": [
      "Gpt model loaded.\n",
      "[DEBUG] Pipeline initialized\n"
     ]
    }
   ],
   "source": [
    "pipeline = Pipeline(\n",
    "    path_to_vocab = \"/Users/adanilishin/jarvis/Voice/Models/vocab.json\",\n",
    "    path_to_hifigan_decoder = \"/Users/adanilishin/jarvis/Voice/Models/hifigan_decoder.pth\",\n",
    "    path_to_gpt_model = \"/Users/adanilishin/jarvis/Voice/Models/gpt.pth\",\n",
    "    path_to_sample_wav = \"/Users/adanilishin/jarvis/Voice/Samples/adanilishin_input.wav\",\n",
    "    path_to_mel_stats = \"/Users/adanilishin/jarvis/Voice/Models/mel_stats.pth\",\n",
    "    device = \"cpu\"\n",
    ")\n",
    "print(f'[DEBUG] Pipeline initialized')"
   ]
  },
  {
   "cell_type": "code",
   "execution_count": null,
   "metadata": {},
   "outputs": [
    {
     "name": "stderr",
     "output_type": "stream",
     "text": [
      "The attention mask is not set and cannot be inferred from input because pad token is same as eos token. As a consequence, you may observe unexpected behavior. Please pass your input's `attention_mask` to obtain reliable results.\n"
     ]
    }
   ],
   "source": [
    "text = \"iPhone 19 получил ультратонкий корпус из титана с практически безрамочным дисплеем, который плавно переходит в боковые грани.\"\n",
    "pipeline.generate(text)\n",
    "print(f'[DEBUG] Voice generated')"
   ]
  }
 ],
 "metadata": {
  "kernelspec": {
   "display_name": "py311",
   "language": "python",
   "name": "python3"
  },
  "language_info": {
   "codemirror_mode": {
    "name": "ipython",
    "version": 3
   },
   "file_extension": ".py",
   "mimetype": "text/x-python",
   "name": "python",
   "nbconvert_exporter": "python",
   "pygments_lexer": "ipython3",
   "version": "3.11.13"
  }
 },
 "nbformat": 4,
 "nbformat_minor": 2
}
